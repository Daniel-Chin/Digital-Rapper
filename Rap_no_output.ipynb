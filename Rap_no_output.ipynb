{
 "cells": [
  {
   "cell_type": "markdown",
   "metadata": {},
   "source": [
    "# Basics"
   ]
  },
  {
   "cell_type": "code",
   "execution_count": null,
   "metadata": {},
   "outputs": [],
   "source": [
    "from IPython.display import Audio\n",
    "from numpy import *\n",
    "import numpy as np\n",
    "from random import randint\n",
    "import librosa\n",
    "import librosa.display\n",
    "import matplotlib.pyplot as plt\n",
    "from librosa.util import normalize\n",
    "sr=22050\n",
    "\n",
    "def sinw(f, T = .2, phase = 0.):\n",
    "    global sr\n",
    "    return sin(2*pi*f*arange(phase, T + phase, 1./sr))\n",
    "\n",
    "def play(y, sr = sr):\n",
    "    return Audio(data=y, rate=sr)\n",
    "\n",
    "def beat2t(beat):\n",
    "    return beat * 2**14 / sr"
   ]
  },
  {
   "cell_type": "markdown",
   "metadata": {},
   "source": [
    "# Our Tools"
   ]
  },
  {
   "cell_type": "code",
   "execution_count": null,
   "metadata": {},
   "outputs": [],
   "source": [
    "def conc(*args):\n",
    "    chunk = array([])\n",
    "    for i in args:\n",
    "        chunk = append(chunk, i)\n",
    "    return chunk\n",
    "\n",
    "def pitch2freq(pitch):\n",
    "    letter=pitch[0].lower()\n",
    "    height=int(pitch[1])\n",
    "    note=(height-4)*12 + {'c':0,\\\n",
    "                          'd':2,\\\n",
    "                          'e':4,\\\n",
    "                          'f':5,\\\n",
    "                          'g':7,\\\n",
    "                          'a':9,\\\n",
    "                          'b':11}[letter]\n",
    "    return int(2**(note/12)* 261.6255653005986)\n",
    "\n",
    "def sinPitch(pitch, T):\n",
    "    return sinw(pitch2freq(pitch), T = T)\n",
    "\n",
    "def mix(plate, *stuff):\n",
    "    delta = len(stuff[0]) - len(plate)\n",
    "    if delta < 0:\n",
    "        new_plate = plate + append(stuff[0], zeros(-delta))\n",
    "    else:\n",
    "        new_plate = plate + stuff[0][:len(plate)]\n",
    "    if len(stuff) == 1:\n",
    "        return new_plate\n",
    "    else:\n",
    "        return mix(new_plate, *stuff[1:])\n",
    "\n",
    "def am(plate, stuff):\n",
    "    delta = len(stuff) - len(plate)\n",
    "    if delta < 0:\n",
    "        return plate * append(stuff, zeros(-delta))\n",
    "    else:\n",
    "        return plate * stuff[:len(plate)]\n",
    "\n",
    "def syn(func, score, T = .7):\n",
    "    chunks = []\n",
    "    for chord in score:\n",
    "        if chord[0] == 't':\n",
    "            t = T * int(chord[1])\n",
    "            chord = chord[2:]\n",
    "        elif chord[0] == '_':\n",
    "            t = T / int(chord[1])\n",
    "            chord = chord[2:]\n",
    "        else:\n",
    "            t = T\n",
    "        chunk = zeros(int(sr * t))\n",
    "        for pitch in (chord[i:i+2] for i in range(0, len(chord), 2)):\n",
    "            chunk = mix(chunk, func(pitch, T = t))\n",
    "        chunks.append(chunk)\n",
    "    return conc(*chunks)"
   ]
  },
  {
   "cell_type": "markdown",
   "metadata": {},
   "source": [
    "## Demo"
   ]
  },
  {
   "cell_type": "code",
   "execution_count": null,
   "metadata": {},
   "outputs": [],
   "source": [
    "play(syn(sinPitch, ('c4','e4','g4','c5', 'c4e4g4c5')))"
   ]
  },
  {
   "cell_type": "markdown",
   "metadata": {},
   "source": [
    "# Voice"
   ]
  },
  {
   "cell_type": "code",
   "execution_count": null,
   "metadata": {},
   "outputs": [],
   "source": [
    "def gus(tone, T = .3):\n",
    "    gmin1 =  [cos((2*pi*tone(n/T)*T) + 3.4 * cos(2*pi*tone(n/T)*T/4)) * (sin(12*pi*n) + 18) for n in arange(0., T, 1./sr)]\n",
    "    gmin2 =  [cos((2*pi*tone(n/T)*T*4) + 9 * cos(2*pi*tone(n/T)*T/4)) * (sin(12*pi*n) + 2) for n in arange(0., T, 1./sr)]\n",
    "    fade_in = 1/16\n",
    "    fade_out = 1/8\n",
    "    head = exp(linspace(-5., 0., int(fade_in * T * sr)))\n",
    "    mid = ones(int(T * sr * (1 - fade_in - fade_out)))\n",
    "    tail = exp(linspace(0., -5., int(fade_out * T * sr)))\n",
    "    envelope = conc(head, mid, tail)\n",
    "    return am(add(gmin1, gmin2), envelope)\n",
    "\n",
    "def boy(tone, T = .3):\n",
    "    gmin1 =  [cos((2*pi*tone(n/T)*T) + 1.4 * cos(2*pi*tone(n/T)*T/4)) * (sin(12*pi*n) +\n",
    "                                            13) for n in arange(0., T, 1./sr)]\n",
    "    gmin2 =  [cos((2*pi*tone(n/T)*T*4) + 13 * cos(2*pi*tone(n/T)*T/4)) * (sin(12*pi*n) +\n",
    "                                        2) for n in arange(0., T, 1./sr)]\n",
    "    fade_in = 1/16\n",
    "    fade_out = 1/8\n",
    "    head = exp(linspace(-5., 0., int(fade_in * T * sr)))\n",
    "    mid = ones(int(T * sr * (1 - fade_in - fade_out)))\n",
    "    tail = exp(linspace(0., -5., int(fade_out * T * sr)))\n",
    "    envelope = conc(head, mid, tail)\n",
    "    return am(add(gmin1, gmin2), envelope)\n",
    "\n",
    "def tone1(x):\n",
    "    return x*688\n",
    "\n",
    "def tone2(x):\n",
    "    sep = .5\n",
    "    start = 488\n",
    "    end = 688\n",
    "    a = (end - start) / sep / 2\n",
    "    if x < sep:\n",
    "        return a * x**2 + start * x\n",
    "    else:\n",
    "        return (x-sep) * end + a * sep**2 + start * sep\n",
    "\n",
    "def tone2_high(x):\n",
    "    sep = .5\n",
    "    start = 488\n",
    "    end = 602\n",
    "    a = (end - start) / sep / 2\n",
    "    if x < sep:\n",
    "        return a * x**2 + start * x\n",
    "    else:\n",
    "        return (x-sep) * end + a * sep**2 + start * sep\n",
    "\n",
    "def tone2_(x):\n",
    "    return x * 602\n",
    "\n",
    "def tone4(x):\n",
    "    a = -200\n",
    "    b = 760\n",
    "    return a * x**2 + b * x\n",
    "\n",
    "def tone3_(x):\n",
    "    start = 265\n",
    "    end = 396\n",
    "    return (end - start)/2 * x**2 + start * x\n",
    "\n",
    "def tone3(x):\n",
    "    sep = .8\n",
    "    start = 265\n",
    "    end = 396\n",
    "    if x < sep:\n",
    "        return x * start\n",
    "    else:\n",
    "        return (x-sep) * end + sep * start"
   ]
  },
  {
   "cell_type": "markdown",
   "metadata": {},
   "source": [
    "## Demo"
   ]
  },
  {
   "cell_type": "code",
   "execution_count": null,
   "metadata": {},
   "outputs": [],
   "source": [
    "play(conc(gus(tone1),gus(tone2),gus(tone3),gus(tone4)))"
   ]
  },
  {
   "cell_type": "code",
   "execution_count": null,
   "metadata": {},
   "outputs": [],
   "source": [
    "# 全家就是你家，欢迎光临\n",
    "play(conc(gus(tone2, .25), \n",
    "         gus(tone1, .4), \n",
    "         gus(tone4, .2), \n",
    "         gus(tone4, .15), \n",
    "         gus(tone3), \n",
    "         gus(tone1), \n",
    "         zeros(int(sr * .3)), \n",
    "         boy(tone1, .2), \n",
    "         boy(tone2_, .2), \n",
    "         boy(tone1, .2), \n",
    "         boy(tone2, .3)))"
   ]
  },
  {
   "cell_type": "markdown",
   "metadata": {},
   "source": [
    "# Controled Aliasing"
   ]
  },
  {
   "cell_type": "code",
   "execution_count": null,
   "metadata": {},
   "outputs": [],
   "source": [
    "def alia_sin(pitch, T = .7):\n",
    "    return sinw(440 + sr*randint(10000000000, 200000000000), T)"
   ]
  },
  {
   "cell_type": "markdown",
   "metadata": {},
   "source": [
    "## Demo"
   ]
  },
  {
   "cell_type": "code",
   "execution_count": null,
   "metadata": {},
   "outputs": [],
   "source": [
    "noisy_fart = syn(alia_sin, ('g4c5e5','g4c5','e4g4','e4c5', 'g4b4d5', 't2b4d5g5', 'g4b4d5','a4c5e5','a4c5d5','b3d4g4','e4g4c5','t4c3c4g4c5'), .6)\n",
    "play(noisy_fart)"
   ]
  },
  {
   "cell_type": "code",
   "execution_count": null,
   "metadata": {},
   "outputs": [],
   "source": [
    "play(syn(alia_sin, ('a4c5e5','a4c5f5','g4c5e5', 'g4b4d5'), T = 2))"
   ]
  },
  {
   "cell_type": "markdown",
   "metadata": {},
   "source": [
    "# Bit-wise"
   ]
  },
  {
   "cell_type": "code",
   "execution_count": null,
   "metadata": {},
   "outputs": [],
   "source": [
    "def gusBitW(n):\n",
    "    return n & n>>8\n",
    "\n",
    "def danBitW(n, b, c):\n",
    "    return n & (n>>b | n>>c)\n",
    "\n",
    "def duck(frames):\n",
    "    return cos((arange(frames)/frames-.0)*pi*16)*.4 + .6\n",
    "\n",
    "chunk = []\n",
    "for c in range(1,14):\n",
    "    chunk += [min(danBitW(n, 11, c), 1) for n in arange(32768)]\n",
    "for c in range(1,12):\n",
    "    chunk += [min(danBitW(n, 13, c), 1) for n in arange(32768)]\n",
    "dan_bit_w = am(chunk, tile(duck(32768), 13 + 11))\n",
    "# Daniel: I exported dan_bit_w to Audacity and changed the sample rate, \n",
    "# so it is the same as the main sr. \n",
    "# Here I load it back. \n",
    "dan_bit_w, _ = librosa.load('dan.wav')\n",
    "\n",
    "# Bit wise tracks that Matthew discovered\n",
    "math_music, _ = librosa.load('Math_bw_music.wav')\n",
    "math_music = math_music[:2**17]\n",
    "\n",
    "# Formulas modified from viznut. We used http://wurstcaptures.untergrund.net/music/ to generate sounds. \n",
    "# Formula: (((t*t%256)|(t>>4))>>1)|(t>>3)|(t<<2|t)\n",
    "nut, _ = librosa.load('nut.wav')\n",
    "nut = mix(zeros(2**15), nut)\n",
    "\n",
    "# (t*(t>>8*(t>>2|t>>8)&(20|(t>>19)*5>>t|t>>3)))\n",
    "hexa, _ = librosa.load('Hexa.wav')\n",
    "hexa = mix(zeros(2**19), hexa)\n",
    "\n",
    "# (t*(t>>8*(t>>11|t>>8)&(20|(t>>19)*5>>t|t>>3)))\n",
    "step, _ = librosa.load('Step.wav')\n",
    "step = mix(zeros(2**19), step)\n",
    "\n",
    "# (t*(t>>8*(t>>15|t>>8)&(20|(t>>19)|t>>2)))\n",
    "ut, _ = librosa.load('UT.wav')\n",
    "ut = mix(zeros(2**17), ut)"
   ]
  },
  {
   "cell_type": "markdown",
   "metadata": {},
   "source": [
    "## Demo"
   ]
  },
  {
   "cell_type": "code",
   "execution_count": null,
   "metadata": {},
   "outputs": [],
   "source": [
    "play(math_music)"
   ]
  },
  {
   "cell_type": "markdown",
   "metadata": {},
   "source": [
    "# Ring"
   ]
  },
  {
   "cell_type": "code",
   "execution_count": null,
   "metadata": {},
   "outputs": [],
   "source": [
    "def ring(pitch, T):\n",
    "    # A ring sound\n",
    "    Fc = pitch2freq(pitch)\n",
    "    Fm = Fc * 1.25\n",
    "    gmin =  [sin(2*pi*Fc*n) * sin(2*pi*Fm*n) * exp(-2*n/T) for n in arange(0.,T,1./sr)]\n",
    "    return gmin\n",
    "\n",
    "fart = syn(ring, ('g4e5','c4c5','g3g4','c4c5', 'b4d5', 't2g4g5', 'd4d5','c5e5','d4d5','g3g4','t5c4g4c5'), .3)\n",
    "play(fart)"
   ]
  },
  {
   "cell_type": "markdown",
   "metadata": {},
   "source": [
    "# All is ready. Start to compose! "
   ]
  },
  {
   "cell_type": "code",
   "execution_count": null,
   "metadata": {},
   "outputs": [],
   "source": [
    "greet = conc(gus(tone2, .25), \n",
    "         gus(tone1, .4), \n",
    "         gus(tone4, .2), \n",
    "         gus(tone4, .15), \n",
    "         gus(tone3), \n",
    "         gus(tone1), \n",
    "         zeros(int(sr * .3)), \n",
    "         gus(tone1, .2), \n",
    "         gus(tone2_, .2), \n",
    "         gus(tone1, .2), \n",
    "         gus(tone2, .3))"
   ]
  },
  {
   "cell_type": "code",
   "execution_count": null,
   "metadata": {},
   "outputs": [],
   "source": [
    "# 猫老鼠老鼠猫大萝卜萝卜大老鼠猫噼里啪啦电灯泡去你的猫\n",
    "def maolaoshu(t):\n",
    "    mao = gus(tone1, t)\n",
    "    laoshu = append(gus(tone2, t/2), gus(tone3_, t/2))\n",
    "    da = gus(tone4, t/2)\n",
    "    lobo = append(gus(tone2, t/4), gus(tone1, t/4))\n",
    "    pilipala = conc(*[gus(tone1, t/4)]*4)\n",
    "    ddp = conc(\n",
    "        gus(tone4, t/3), \n",
    "        gus(tone1, t/3), \n",
    "        gus(tone4, t/3))\n",
    "    qnd = conc(\n",
    "        gus(tone4, t/4), \n",
    "        gus(tone3_, t/2), \n",
    "        gus(tone2_, t/4))\n",
    "    return conc(mao, laoshu, laoshu, mao, da, lobo, lobo, da, laoshu, \n",
    "                mao, pilipala, ddp, qnd, mao, zeros(int(t * sr * 4)))\n",
    "mls = None\n",
    "mls = append(maolaoshu(beat2t(1)), maolaoshu(beat2t(.5)))\n",
    "mls = mix(normalize(mls), step)\n",
    "play(mls)"
   ]
  },
  {
   "cell_type": "code",
   "execution_count": null,
   "metadata": {},
   "outputs": [],
   "source": [
    "# Rap + dan_bit\n",
    "t = beat2t(.5 / .8)\n",
    "rap = conc(gus(tone1, t), \n",
    "    gus(tone2, t), \n",
    "    gus(tone3, t), \n",
    "    gus(tone1, t/2), \n",
    "    gus(tone2, t/2), \n",
    "    gus(tone1, t/2), \n",
    "    gus(tone1, t/2), \n",
    "    gus(tone2, t), \n",
    "    gus(tone3, t), \n",
    "    gus(tone1, t/2), \n",
    "    gus(tone2, t/2), \n",
    "    gus(tone1, t/2), \n",
    "    gus(tone2, t/2), \n",
    "    gus(tone3, t), \n",
    "    gus(tone2, t/2), \n",
    "    gus(tone2, t/2), \n",
    "    gus(tone1, t), \n",
    "    gus(tone2, t), \n",
    "    zeros(int(sr * t)), \n",
    "    gus(tone2, t), \n",
    "    zeros(int(sr * t)), \n",
    "    gus(tone4, t), \n",
    "    gus(tone2, t), \n",
    "    gus(tone4, t), \n",
    "    gus(tone2, t), \n",
    "    gus(tone3, t/2), \n",
    "    gus(tone2, t), \n",
    "    gus(tone2, t/2), \n",
    "    gus(tone2, t), \n",
    "    gus(tone3, t), \n",
    "    gus(tone4, t/2), \n",
    "    gus(tone4, t/2), \n",
    "    gus(tone1, t), \n",
    "    gus(tone4, t/2), \n",
    "    gus(tone4, t/2), \n",
    "    gus(tone4, t), \n",
    "    gus(tone2, t/2), \n",
    "    gus(tone2, t/2), \n",
    "    gus(tone2, t/4), \n",
    "    gus(tone2, t/4), \n",
    "    gus(tone2, t/4), \n",
    "    gus(tone2, t/4), \n",
    "    gus(tone2, t), \n",
    "    zeros(int(sr * t)))\n",
    "dan_rap = mix(dan_bit_w[:len(dan_bit_w)//2], normalize(tile(rap, 2))/2)\n",
    "play(dan_rap)"
   ]
  },
  {
   "cell_type": "code",
   "execution_count": null,
   "metadata": {},
   "outputs": [],
   "source": [
    "# 我的滑板鞋\n",
    "score = (\n",
    "    'd4', 'c4', \n",
    "    't2e4', 'e4', 't2e4', 't2e4', 't7e4', 'd4', 'c4', \n",
    "    't2d4', 'd4', 't2d4', 't2e4', 't7e4', 'a3', 'b3', \n",
    "    't2c4', 'c4', 't3c4', 't2d4', 't2e4', 'c4', 't3c4', 'b3', 'a3'\n",
    "    'e3', 'b3', 'e4', 'e4', 'e4', 't2e4', 'g4', 't9e4', \n",
    "    'a3', 'f4', 'f4', 'f4', 't2f4', 'a3', 't2f4', 't2f4', 'f4', 't4f4', \n",
    "    'b3', 'g4', 'g4', 'g4', 't2g4', 'b3', 't5g4', 't4d4'\n",
    ")\n",
    "hbx = syn(ring, score, T = beat2t(.25))\n",
    "play(hbx)"
   ]
  },
  {
   "cell_type": "code",
   "execution_count": null,
   "metadata": {},
   "outputs": [],
   "source": [
    "t = beat2t(.25)\n",
    "chunk = []\n",
    "chunk.append(conc(\n",
    "    boy(tone3_, 2*t),#有些事\n",
    "    boy(tone1, t),\n",
    "    boy(tone4, 3*t),\n",
    "    boy(tone3, t),#我都已忘记\n",
    "    boy(tone1, 2*t),\n",
    "    boy(tone3, t),\n",
    "    boy(tone4, 2*t),\n",
    "    boy(tone4, 4*t),\n",
    "    boy(tone4, t),#但我现在\n",
    "    boy(tone3, t),\n",
    "    boy(tone4, t),\n",
    "    boy(tone4, t*3),\n",
    "    boy(tone2_, t),#还记得\n",
    "    boy(tone4, t*2),\n",
    "    boy(tone2, t*6)\n",
    "))\n",
    "chunk.append(conc(\n",
    "    boy(tone4, t),#在一个晚上\n",
    "    boy(tone2_high, 2*t),\n",
    "    boy(tone4, t),\n",
    "    boy(tone3, t),\n",
    "    boy(tone4, 2*t), \n",
    "    boy(tone3, t),#我的母亲问我\n",
    "    boy(tone4, t),\n",
    "    boy(tone3, t),\n",
    "    boy(tone1, t),\n",
    "    boy(tone4, t),\n",
    "    boy(tone3, t*3),\n",
    "    boy(tone1, t),#今天怎么不开心\n",
    "    boy(tone1, t),\n",
    "    boy(tone3, t*3),\n",
    "    boy(tone2_, t),\n",
    "    boy(tone4, t*2),\n",
    "    boy(tone1, t),\n",
    "    boy(tone1, t*7)\n",
    "))\n",
    "chunk.append(conc(\n",
    "    boy(tone3, t),\n",
    "    boy(tone1, t),\n",
    "    boy(tone4, t),\n",
    "    boy(tone3, t),\n",
    "    boy(tone4, t),\n",
    "    boy(tone3, t),\n",
    "    boy(tone4, t),\n",
    "    boy(tone1, t*2),\n",
    "    boy(tone3, t),\n",
    "    boy(tone4, t),\n",
    "    boy(tone1, t),\n",
    "    boy(tone2, t),\n",
    "    boy(tone3, t),\n",
    "    boy(tone2, t*4)\n",
    "))\n",
    "chunk.append(conc(\n",
    "    boy(tone3, t),\n",
    "    boy(tone4, t),\n",
    "    boy(tone4, t),\n",
    "    boy(tone2, t),\n",
    "    boy(tone4, t),\n",
    "    boy(tone2, t),\n",
    "    boy(tone4, 2*t),\n",
    "    boy(tone4, t),\n",
    "    boy(tone2, t),\n",
    "    boy(tone3, t),\n",
    "    boy(tone4, t),\n",
    "    boy(tone4, 4*t)\n",
    "))\n",
    "chunk.append(conc(\n",
    "    boy(tone3, t*2),\n",
    "    boy(tone4, t),\n",
    "    boy(tone2, t),\n",
    "    boy(tone4, t*2),\n",
    "    boy(tone3, t),\n",
    "    boy(tone4, t),\n",
    "    boy(tone2, t),\n",
    "    boy(tone3, t*2),\n",
    "    boy(tone2, t),\n",
    "    boy(tone1, t*4),\n",
    "    boy(tone1, t*3),\n",
    "    boy(tone2, t),\n",
    "    boy(tone3, t*10)\n",
    "))\n",
    "chunk.append(tile(conc(\n",
    "    boy(tone2, t),#摩擦 摩擦\n",
    "    boy(tone1, t),\n",
    "    boy(tone2, t*2),\n",
    "    boy(tone1, t*4),\n",
    "    boy(tone4, t),#在这光滑的地上\n",
    "    boy(tone4, t),\n",
    "    boy(tone1, t*2),\n",
    "    boy(tone2, t),\n",
    "    boy(tone4, t),\n",
    "    boy(tone4, t*2),\n",
    "    boy(tone4, t*2),\n",
    "    boy(tone2, t),#摩擦\n",
    "    boy(tone1, t*3),\n",
    "    zeros(int(sr * t*4)),\n",
    "    gus(tone2, t),#摩擦\n",
    "    gus(tone1, t*3),\n",
    "    zeros(int(sr * t*2))\n",
    "), 2))\n",
    "pangmailang = conc(*chunk)\n",
    "play(pangmailang)"
   ]
  },
  {
   "cell_type": "code",
   "execution_count": null,
   "metadata": {},
   "outputs": [],
   "source": [
    "# Snowdin by Toby Fox\n",
    "score = (\n",
    "    'g5', 'g4', 'c5', 'g4', 't3d5', '_2c5', '_2d5',\n",
    "    'e5', 'c5', 'g4', 't2e4', 'f4', 't2g4', \n",
    "    'g5', 'g4', 'c5', 'g4', 't3d5', '_2c5', '_2d5',\n",
    "    'e5', 'f5', 'e5', 't2d5', 'e5', 't2c5'\n",
    ")\n",
    "snowdin = syn(ring, score, .3)\n",
    "play(snowdin)"
   ]
  },
  {
   "cell_type": "code",
   "execution_count": null,
   "metadata": {},
   "outputs": [],
   "source": [
    "our_song = []\n",
    "our_song += normalize(fart).tolist()\n",
    "greet_ = mix(fart, normalize(greet))\n",
    "our_song += normalize(greet_).tolist()\n",
    "our_song += (normalize(step[:int(sr * beat2t(4))])/2).tolist()\n",
    "our_song += normalize(mls).tolist()\n",
    "our_song += normalize(mix(tile(math_music, 2), step)).tolist()\n",
    "our_song += normalize(mix(math_music, ut)).tolist()\n",
    "our_song += normalize(dan_rap).tolist()\n",
    "our_song += normalize(hexa[:-int(beat2t(4)*sr)]).tolist()\n",
    "our_song += normalize(mix(hexa[-int(beat2t(4)*sr):], tile(nut,4))).tolist()\n",
    "our_song += normalize(hbx).tolist()\n",
    "pang_ = mix(normalize(pangmailang), append(tile(nut, 16), step))\n",
    "our_song += normalize(pang_).tolist()\n",
    "our_song += normalize(fart).tolist()\n",
    "our_song += normalize(mix(tile(fart, 2), snowdin)).tolist()\n",
    "our_song += normalize(snowdin).tolist()\n",
    "our_song += normalize(noisy_fart).tolist()\n",
    "librosa.output.write_wav('our.wav', array(our_song), sr)"
   ]
  },
  {
   "cell_type": "markdown",
   "metadata": {},
   "source": [
    "# Done!"
   ]
  },
  {
   "cell_type": "markdown",
   "metadata": {},
   "source": [
    "### Somehow, my jupyter notebook refuses to load the music. Probably too big for RAM. Please check the wav file instead. "
   ]
  }
 ],
 "metadata": {
  "kernelspec": {
   "display_name": "Python 3",
   "language": "python",
   "name": "python3"
  },
  "language_info": {
   "codemirror_mode": {
    "name": "ipython",
    "version": 3
   },
   "file_extension": ".py",
   "mimetype": "text/x-python",
   "name": "python",
   "nbconvert_exporter": "python",
   "pygments_lexer": "ipython3",
   "version": "3.6.10"
  }
 },
 "nbformat": 4,
 "nbformat_minor": 2
}
